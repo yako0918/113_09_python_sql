{
 "cells": [
  {
   "cell_type": "code",
   "execution_count": null,
   "metadata": {},
   "outputs": [],
   "source": [
    "import psycopg2\n",
    "\n",
    "conn = psycopg2.connect(host='192.168.0.252',database=\"mydatabase_a31\",user='a31',password='raspberry')"
   ]
  },
  {
   "cell_type": "code",
   "execution_count": null,
   "metadata": {},
   "outputs": [],
   "source": [
    "import psycopg2\n",
    "\n",
    "conn = psycopg2.connect(host='192.168.0.252',database=\"mydatabase_a31\",user='a31',password='raspberry')\n",
    "\n",
    "sql = '''CREATE TABLE IF NOT EXISTS 市場(\n",
    "\tname VARCHAR(20),\n",
    "\tcountry VARCHAR(20),\n",
    "\tPRIMARY KEY(name),\n",
    "\tUNIQUE(name,country) /*不可以有重覆的資料*/\n",
    ");'''\n",
    "\n",
    "cursor = conn.cursor()\n",
    "cursor.execute(sql)\n",
    "\n",
    "\n",
    "sql1 = '''\n",
    "CREATE TABLE IF NOT EXISTS 股市(\n",
    "\tstock_id SERIAL,\n",
    "\tdate DATE,\n",
    "\topen NUMERIC(17,10),\n",
    "\thigh NUMERIC(17,10),\n",
    "\tlow NUMERIC(17,10),\n",
    "\tclose NUMERIC(17,10),\n",
    "\tadj_close NUMERIC(17,10),\n",
    "\tvolume BIGINT DEFAULT 0,\n",
    "\tname VARCHAR(20),\n",
    "\tPRIMARY KEY(stock_id),\t\n",
    "\tUNIQUE(date,name),\n",
    "\tFOREIGN KEY(name) REFERENCES 市場(name)\n",
    "\tON DELETE NO ACTION\n",
    "\tON UPDATE CASCADE\n",
    ");\n",
    "'''\n",
    "\n",
    "cursor.execute(sql1)\n",
    "conn.commit()\n",
    "\n",
    "cursor.close()\n",
    "conn.close()\n"
   ]
  },
  {
   "cell_type": "code",
   "execution_count": null,
   "metadata": {},
   "outputs": [],
   "source": []
  },
  {
   "cell_type": "code",
   "execution_count": null,
   "metadata": {},
   "outputs": [],
   "source": [
    "import psycopg2  #建立資料庫\n",
    "\n",
    "conn = psycopg2.connect(host='piRobert0301.local',\n",
    "                        database='mydatabase_a16',\n",
    "                        user='a16',\n",
    "                        password='raspberry'\n",
    "                        )\n",
    "\n",
    "with conn:               #建立資料表\n",
    "    with conn.cursor() as cursor:\n",
    "        sql = '''CREATE TABLE IF NOT EXISTS 市場(\n",
    "        name VARCHAR(20),\n",
    "        country VARCHAR(20),\n",
    "        PRIMARY KEY(name),\n",
    "        UNIQUE(name,country) /*不可以有重覆的資料*/\n",
    "        );'''\n",
    "\n",
    "        cursor.execute(sql)\n",
    "     \n",
    "    with conn.cursor() as cursor:     #建立欄位\n",
    "        sql = '''CREATE TABLE IF NOT EXISTS 股市(\n",
    "            stock_id SERIAL,\n",
    "            date DATE,\n",
    "            open NUMERIC(17,10),\n",
    "            high NUMERIC(17,10),\n",
    "            low NUMERIC(17,10),\n",
    "            close NUMERIC(17,10),\n",
    "            adj_close NUMERIC(17,10),\n",
    "            volume BIGINT DEFAULT 0,\n",
    "            name VARCHAR(20),\n",
    "            PRIMARY KEY(stock_id),\t\n",
    "            UNIQUE(date,name),\n",
    "            FOREIGN KEY(name) REFERENCES 市場(name)\n",
    "            ON DELETE NO ACTION\n",
    "            ON UPDATE CASCADE\n",
    "        );'''\n",
    "        cursor.execute(sql)\n",
    "    \n",
    "conn.close()"
   ]
  },
  {
   "cell_type": "code",
   "execution_count": null,
   "metadata": {},
   "outputs": [],
   "source": [
    "import psycopg2\n",
    "from dotenv import load_dotenv\n",
    "load_dotenv()\n",
    "\n",
    "conn = psycopg2.connect(host='192.168.0.252',database=\"mydatabase_a31\",user='a31',password='raspberry')\n",
    "with conn:\n",
    "    with conn.cursor() as cursor:\n",
    "        sql='''\n",
    "        INSERT INTO 市場 values (%s,%s)\n",
    "        ON CONFLICT DO NOTHING;\n",
    "        '''\n",
    "        cursor.execute(sql,['^TWII','台灣'])\n",
    "conn.close()"
   ]
  },
  {
   "cell_type": "code",
   "execution_count": null,
   "metadata": {},
   "outputs": [],
   "source": [
    "import yfinance as yf\n",
    "taiwan = yf.download('^TWII')"
   ]
  },
  {
   "cell_type": "code",
   "execution_count": null,
   "metadata": {},
   "outputs": [],
   "source": [
    "from decimal import Decimal\n",
    "conn = psycopg2.connect(host='192.168.0.252',database=\"mydatabase_a31\",user='a31',password='raspberry')\n",
    "with conn:\n",
    "    all_data = taiwan.to_dict(orient='index')\n",
    "    for key,value in all_data.items():\n",
    "        date = key.date()\n",
    "        name = '^TWII'\n",
    "        adj_close = Decimal(value[('Adj Close', name)])\n",
    "        open = Decimal(value[('Open', name)])\n",
    "        high = Decimal(value[('High', name)])\n",
    "        low = Decimal(value[('Low', name)])\n",
    "        close = Decimal(value[('Close', name)])\n",
    "        volume = Decimal(value[('Volume', name)])\n",
    "        with conn.cursor() as cursor:\n",
    "            sql='''\n",
    "            INSERT INTO 股市(date,open,high,low,close,adj_close,volume,name) \n",
    "            values(%s,%s,%s,%s,%s,%s,%s,%s) ON CONFLICT DO NOTHING;\n",
    "            '''\n",
    "            cursor.execute(sql,[date,open,high,low,close,adj_close,volume,name])\n",
    "conn.close()"
   ]
  },
  {
   "cell_type": "code",
   "execution_count": null,
   "metadata": {},
   "outputs": [],
   "source": [
    "conn = psycopg2.connect(host='192.168.0.252',database=\"mydatabase_a31\",user='a31',password='raspberry')\n",
    "with conn:\n",
    "    with conn.cursor() as cursor:\n",
    "        sql='''\n",
    "        INSERT INTO 市場 values (%s,%s)\n",
    "        ON CONFLICT DO NOTHING;\n",
    "        '''\n",
    "        cursor.execute(sql,['^HSI','香港恒生'])\n",
    "conn.close()"
   ]
  }
 ],
 "metadata": {
  "kernelspec": {
   "display_name": "base",
   "language": "python",
   "name": "python3"
  },
  "language_info": {
   "codemirror_mode": {
    "name": "ipython",
    "version": 3
   },
   "file_extension": ".py",
   "mimetype": "text/x-python",
   "name": "python",
   "nbconvert_exporter": "python",
   "pygments_lexer": "ipython3",
   "version": "3.12.3"
  }
 },
 "nbformat": 4,
 "nbformat_minor": 2
}
