{
 "cells": [
  {
   "cell_type": "code",
   "execution_count": null,
   "metadata": {},
   "outputs": [],
   "source": [
    "/*有發生限制衝突,不做任何事的語法*/\n",
    "INSERT INTO 市場 values ('^TWII','台灣')\n",
    "ON CONFLICT DO NOTHING;\n",
    "\n",
    "\n",
    "SELECT * \n",
    "FROM 市場;\n",
    "\n",
    "DELETE FROM 市場;\n",
    "\n",
    "\n",
    "INSERT INTO 股市(date,open,high,low,close,adj_close,volume,name) \n",
    "values('1997-07-08',9094.26953125,9124.2998046875,8988.1298828125,8996.7197265625,8996.6865234375,0,'^TWII')\n",
    "ON CONFLICT DO NOTHING;\n",
    "\n",
    "SELECT *\n",
    "FROM 股市;\n",
    "\n",
    "DELETE FROM 股市;"
   ]
  }
 ],
 "metadata": {
  "kernelspec": {
   "display_name": "base",
   "language": "python",
   "name": "python3"
  },
  "language_info": {
   "codemirror_mode": {
    "name": "ipython",
    "version": 3
   },
   "file_extension": ".py",
   "mimetype": "text/x-python",
   "name": "python",
   "nbconvert_exporter": "python",
   "pygments_lexer": "ipython3",
   "version": "3.12.3"
  }
 },
 "nbformat": 4,
 "nbformat_minor": 2
}
