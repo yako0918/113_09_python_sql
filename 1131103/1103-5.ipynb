{
 "cells": [
  {
   "cell_type": "code",
   "execution_count": null,
   "metadata": {},
   "outputs": [],
   "source": [
    "import psycopg2\n",
    "from dotenv import load_dotenv  # 用虛擬環境變數 連線pi=a16資料庫\n",
    "import os\n",
    "load_dotenv()\n",
    "\n",
    "conn = psycopg2.connect(host=os.environ['host'],database=os.environ['database'],user=os.environ['user'],password=os.environ['password'])"
   ]
  },
  {
   "cell_type": "markdown",
   "metadata": {},
   "source": [
    "# 用虛擬環境變數 .env  連線資料庫\n",
    "\n",
    "避免帳號密碼 一併 git up\n"
   ]
  },
  {
   "cell_type": "code",
   "execution_count": null,
   "metadata": {},
   "outputs": [],
   "source": [
    "import psycopg2\n",
    "from dotenv import load_dotenv\n",
    "import os\n",
    "load_dotenv()\n",
    "\n",
    "conn = psycopg2.connect(host=os.environ['POSTGRE_HOST'],database=os.environ['POSTGRE_DATABASE'],user=os.environ['POSTGRE_USER'],password=os.environ['POSTGRE_PASSWORD'])\n",
    "with conn:\n",
    "    with conn.cursor() as cursor:\n",
    "        sql='''\n",
    "        SELECT country,市場.name,date,adj_close,volume\n",
    "        FROM 股市 JOIN 市場 ON 股市.name = 市場.name\n",
    "        WHERE country = '台灣';\n",
    "        '''\n",
    "        cursor.execute(sql)\n",
    "        all_data = cursor.fetchall()\n",
    "conn.close()\n",
    "len(all_data)"
   ]
  },
  {
   "cell_type": "code",
   "execution_count": null,
   "metadata": {},
   "outputs": [],
   "source": [
    "import psycopg2\n",
    "from dotenv import load_dotenv  # 用虛擬環境變數 連線pi=a16資料庫\n",
    "import os\n",
    "load_dotenv()\n",
    "\n",
    "conn = psycopg2.connect(host=os.environ['host'],database=os.environ['database'],user=os.environ['user'],password=os.environ['password'])\n",
    "with conn:\n",
    "    with conn.cursor() as cursor:\n",
    "        sql='''\n",
    "        SELECT country,市場.name,date,adj_close,volume\n",
    "        FROM 股市 JOIN 市場 ON 股市.name = 市場.name\n",
    "        WHERE country = '台灣';\n",
    "        '''\n",
    "        cursor.execute(sql)\n",
    "        all_data = cursor.fetchall()\n",
    "conn.close()\n",
    "len(all_data)"
   ]
  },
  {
   "cell_type": "code",
   "execution_count": null,
   "metadata": {},
   "outputs": [],
   "source": [
    "import psycopg2\n",
    "from dotenv import load_dotenv  # 用虛擬環境變數 連線pi=a16資料庫\n",
    "import os\n",
    "load_dotenv()\n",
    "\n",
    "conn = psycopg2.connect(host=os.environ['Singapore_host'],database=os.environ['Singapore_database'],user=os.environ['Singapore_user'],password=os.environ['Singapore_password'])"
   ]
  },
  {
   "cell_type": "code",
   "execution_count": null,
   "metadata": {},
   "outputs": [],
   "source": [
    "# 以網頁呈現\n",
    "import streamlit as st\n",
    "st.title('世界大盤分析')"
   ]
  }
 ],
 "metadata": {
  "kernelspec": {
   "display_name": "base",
   "language": "python",
   "name": "python3"
  },
  "language_info": {
   "codemirror_mode": {
    "name": "ipython",
    "version": 3
   },
   "file_extension": ".py",
   "mimetype": "text/x-python",
   "name": "python",
   "nbconvert_exporter": "python",
   "pygments_lexer": "ipython3",
   "version": "3.12.3"
  }
 },
 "nbformat": 4,
 "nbformat_minor": 2
}
