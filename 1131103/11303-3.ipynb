{
 "cells": [
  {
   "cell_type": "code",
   "execution_count": null,
   "metadata": {},
   "outputs": [],
   "source": [
    "import psycopg2\n",
    "\n",
    "conn = psycopg2.connect(host='192.168.0.252',database=\"mydatabase_a16\",user='a16',password='raspberry')"
   ]
  },
  {
   "cell_type": "code",
   "execution_count": null,
   "metadata": {},
   "outputs": [],
   "source": [
    "import psycopg2"
   ]
  },
  {
   "cell_type": "code",
   "execution_count": 1,
   "metadata": {},
   "outputs": [
    {
     "name": "stdout",
     "output_type": "stream",
     "text": [
      "Collecting psycopg2-binary\n",
      "  Downloading psycopg2-binary-2.9.10.tar.gz (385 kB)\n",
      "  Installing build dependencies: started\n",
      "  Installing build dependencies: finished with status 'done'\n",
      "  Getting requirements to build wheel: started\n",
      "  Getting requirements to build wheel: finished with status 'error'\n",
      "Note: you may need to restart the kernel to use updated packages.\n"
     ]
    },
    {
     "name": "stderr",
     "output_type": "stream",
     "text": [
      "  error: subprocess-exited-with-error\n",
      "  \n",
      "  × Getting requirements to build wheel did not run successfully.\n",
      "  │ exit code: 1\n",
      "  ╰─> [21 lines of output]\n",
      "      running egg_info\n",
      "      writing psycopg2_binary.egg-info\\PKG-INFO\n",
      "      writing dependency_links to psycopg2_binary.egg-info\\dependency_links.txt\n",
      "      writing top-level names to psycopg2_binary.egg-info\\top_level.txt\n",
      "      \n",
      "      Error: pg_config executable not found.\n",
      "      \n",
      "      pg_config is required to build psycopg2 from source.  Please add the directory\n",
      "      containing pg_config to the $PATH or specify the full executable path with the\n",
      "      option:\n",
      "      \n",
      "          python setup.py build_ext --pg-config /path/to/pg_config build ...\n",
      "      \n",
      "      or with the pg_config option in 'setup.cfg'.\n",
      "      \n",
      "      If you prefer to avoid building psycopg2 from source, please install the PyPI\n",
      "      'psycopg2-binary' package instead.\n",
      "      \n",
      "      For further information please check the 'doc/src/install.rst' file (also at\n",
      "      <https://www.psycopg.org/docs/install.html>).\n",
      "      \n",
      "      [end of output]\n",
      "  \n",
      "  note: This error originates from a subprocess, and is likely not a problem with pip.\n",
      "\n",
      "[notice] A new release of pip is available: 24.2 -> 24.3.1\n",
      "[notice] To update, run: python.exe -m pip install --upgrade pip\n",
      "error: subprocess-exited-with-error\n",
      "\n",
      "× Getting requirements to build wheel did not run successfully.\n",
      "│ exit code: 1\n",
      "╰─> See above for output.\n",
      "\n",
      "note: This error originates from a subprocess, and is likely not a problem with pip.\n"
     ]
    }
   ],
   "source": [
    "pip install psycopg2-binary"
   ]
  },
  {
   "cell_type": "code",
   "execution_count": 2,
   "metadata": {},
   "outputs": [
    {
     "name": "stdout",
     "output_type": "stream",
     "text": [
      "Note: you may need to restart the kernel to use updated packages.\n"
     ]
    },
    {
     "name": "stderr",
     "output_type": "stream",
     "text": [
      "\n",
      "[notice] A new release of pip is available: 24.2 -> 24.3.1\n",
      "[notice] To update, run: python.exe -m pip install --upgrade pip\n",
      "ERROR: Exception:\n",
      "Traceback (most recent call last):\n",
      "  File \"c:\\Users\\User\\AppData\\Local\\Programs\\Python\\Python313\\Lib\\site-packages\\pip\\_internal\\cli\\base_command.py\", line 105, in _run_wrapper\n",
      "    status = _inner_run()\n",
      "  File \"c:\\Users\\User\\AppData\\Local\\Programs\\Python\\Python313\\Lib\\site-packages\\pip\\_internal\\cli\\base_command.py\", line 96, in _inner_run\n",
      "    return self.run(options, args)\n",
      "           ~~~~~~~~^^^^^^^^^^^^^^^\n",
      "  File \"c:\\Users\\User\\AppData\\Local\\Programs\\Python\\Python313\\Lib\\site-packages\\pip\\_internal\\cli\\req_command.py\", line 67, in wrapper\n",
      "    return func(self, options, args)\n",
      "  File \"c:\\Users\\User\\AppData\\Local\\Programs\\Python\\Python313\\Lib\\site-packages\\pip\\_internal\\commands\\install.py\", line 343, in run\n",
      "    reqs = self.get_requirements(args, options, finder, session)\n",
      "  File \"c:\\Users\\User\\AppData\\Local\\Programs\\Python\\Python313\\Lib\\site-packages\\pip\\_internal\\cli\\req_command.py\", line 255, in get_requirements\n",
      "    for parsed_req in parse_requirements(\n",
      "                      ~~~~~~~~~~~~~~~~~~^\n",
      "        filename, finder=finder, options=options, session=session\n",
      "        ^^^^^^^^^^^^^^^^^^^^^^^^^^^^^^^^^^^^^^^^^^^^^^^^^^^^^^^^^\n",
      "    ):\n",
      "    ^\n",
      "  File \"c:\\Users\\User\\AppData\\Local\\Programs\\Python\\Python313\\Lib\\site-packages\\pip\\_internal\\req\\req_file.py\", line 151, in parse_requirements\n",
      "    for parsed_line in parser.parse(filename, constraint):\n",
      "                       ~~~~~~~~~~~~^^^^^^^^^^^^^^^^^^^^^^\n",
      "  File \"c:\\Users\\User\\AppData\\Local\\Programs\\Python\\Python313\\Lib\\site-packages\\pip\\_internal\\req\\req_file.py\", line 332, in parse\n",
      "    yield from self._parse_and_recurse(filename, constraint)\n",
      "  File \"c:\\Users\\User\\AppData\\Local\\Programs\\Python\\Python313\\Lib\\site-packages\\pip\\_internal\\req\\req_file.py\", line 337, in _parse_and_recurse\n",
      "    for line in self._parse_file(filename, constraint):\n",
      "                ~~~~~~~~~~~~~~~~^^^^^^^^^^^^^^^^^^^^^^\n",
      "  File \"c:\\Users\\User\\AppData\\Local\\Programs\\Python\\Python313\\Lib\\site-packages\\pip\\_internal\\req\\req_file.py\", line 368, in _parse_file\n",
      "    _, content = get_file_content(filename, self._session)\n",
      "                 ~~~~~~~~~~~~~~~~^^^^^^^^^^^^^^^^^^^^^^^^^\n",
      "  File \"c:\\Users\\User\\AppData\\Local\\Programs\\Python\\Python313\\Lib\\site-packages\\pip\\_internal\\req\\req_file.py\", line 548, in get_file_content\n",
      "    content = auto_decode(f.read())\n",
      "  File \"c:\\Users\\User\\AppData\\Local\\Programs\\Python\\Python313\\Lib\\site-packages\\pip\\_internal\\utils\\encoding.py\", line 34, in auto_decode\n",
      "    return data.decode(\n",
      "           ~~~~~~~~~~~^\n",
      "        locale.getpreferredencoding(False) or sys.getdefaultencoding(),\n",
      "        ^^^^^^^^^^^^^^^^^^^^^^^^^^^^^^^^^^^^^^^^^^^^^^^^^^^^^^^^^^^^^^^\n",
      "    )\n",
      "    ^\n",
      "UnicodeDecodeError: 'cp950' codec can't decode byte 0xe5 in position 3: illegal multibyte sequence\n",
      "decoding with 'cp950' codec failed\n"
     ]
    }
   ],
   "source": [
    "pip install -r requirements.txt"
   ]
  },
  {
   "cell_type": "code",
   "execution_count": null,
   "metadata": {},
   "outputs": [],
   "source": [
    "\n",
    "import psycopg2\n",
    "\n",
    "connection = psycopg2.connect(host='192.168.0.252',database='mydatabase_a16',user='a16',password='raspberry')\n",
    "cursor = connection.cursor()\n",
    "cursor.execute(\"SELECT version();\")\n",
    "db_version = cursor.fetchone()\n",
    "print(db_version)\n",
    "cursor.close()\n",
    "connection.close()"
   ]
  },
  {
   "cell_type": "code",
   "execution_count": null,
   "metadata": {},
   "outputs": [],
   "source": [
    "import psycopg2\n",
    "conn = psycopg2.connect(\n",
    "    database=\"mydatabase_a16\",\n",
    "    user=\"a16\",\n",
    "    password=\"raspberry\",\n",
    "    host=\"piRobert0301.local\",  # 通常是 '127.0.0.1' 或 'localhost'\n",
    "    port=\"5432\")\n",
    "\n",
    "type(conn)"
   ]
  },
  {
   "cell_type": "code",
   "execution_count": null,
   "metadata": {},
   "outputs": [],
   "source": [
    "cur = conn.cursor()\n",
    "type(cur)"
   ]
  },
  {
   "cell_type": "code",
   "execution_count": null,
   "metadata": {},
   "outputs": [],
   "source": [
    "cur.execute(\"SELECT * FROM stations;\")"
   ]
  },
  {
   "cell_type": "code",
   "execution_count": null,
   "metadata": {},
   "outputs": [],
   "source": [
    "rows = cur.fetchall()\n",
    "type(rows)"
   ]
  },
  {
   "cell_type": "code",
   "execution_count": null,
   "metadata": {},
   "outputs": [],
   "source": [
    "import psycopg2\n",
    "\n",
    "conn = psycopg2.connect(host='192.168.0.252',database=\"mydatabase_a16\",user='a16',password='raspberry')"
   ]
  },
  {
   "cell_type": "code",
   "execution_count": null,
   "metadata": {},
   "outputs": [],
   "source": [
    "import psycopg2\n",
    "\n",
    "conn = psycopg2.connect(host='192.168.0.252',database=\"mydatabase_a16\",user='a16',password='raspberry')\n",
    "\n",
    "sql = '''CREATE TABLE IF NOT EXISTS 市場(\n",
    "\tname VARCHAR(20),\n",
    "\tcountry VARCHAR(20),\n",
    "\tPRIMARY KEY(name),\n",
    "\tUNIQUE(name,country) /*不可以有重覆的資料*/\n",
    ");'''\n",
    "\n",
    "cursor = conn.cursor()\n",
    "cursor.execute(sql)\n",
    "\n",
    "\n",
    "sql1 = '''\n",
    "CREATE TABLE IF NOT EXISTS 股市(\n",
    "\tstock_id SERIAL,\n",
    "\tdate DATE,\n",
    "\topen NUMERIC(17,10),\n",
    "\thigh NUMERIC(17,10),\n",
    "\tlow NUMERIC(17,10),\n",
    "\tclose NUMERIC(17,10),\n",
    "\tadj_close NUMERIC(17,10),\n",
    "\tvolume BIGINT DEFAULT 0,\n",
    "\tname VARCHAR(20),\n",
    "\tPRIMARY KEY(stock_id),\t\n",
    "\tUNIQUE(date,name),\n",
    "\tFOREIGN KEY(name) REFERENCES 市場(name)\n",
    "\tON DELETE NO ACTION\n",
    "\tON UPDATE CASCADE\n",
    ");\n",
    "'''\n",
    "\n",
    "cursor.execute(sql1)\n",
    "conn.commit()\n",
    "\n",
    "cursor.close()\n",
    "conn.close()"
   ]
  },
  {
   "cell_type": "code",
   "execution_count": null,
   "metadata": {},
   "outputs": [],
   "source": [
    "import psycopg2\n",
    "\n",
    "conn = psycopg2.connect(host='192.168.0.252',database=\"mydatabase_a16\",user='a16',password='raspberry')\n",
    "\n",
    "with conn:\n",
    "    with conn.cursor() as cursor:\n",
    "        sql = '''CREATE TABLE IF NOT EXISTS 市場(\n",
    "        name VARCHAR(20),\n",
    "        country VARCHAR(20),\n",
    "        PRIMARY KEY(name),\n",
    "        UNIQUE(name,country) /*不可以有重覆的資料*/\n",
    "        );'''\n",
    "\n",
    "        cursor.execute(sql)\n",
    "    \n",
    "    with conn.cursor() as cursor:\n",
    "        sql = '''CREATE TABLE IF NOT EXISTS 股市(\n",
    "            stock_id SERIAL,\n",
    "            date DATE,\n",
    "            open NUMERIC(17,10),\n",
    "            high NUMERIC(17,10),\n",
    "            low NUMERIC(17,10),\n",
    "            close NUMERIC(17,10),\n",
    "            adj_close NUMERIC(17,10),\n",
    "            volume BIGINT DEFAULT 0,\n",
    "            name VARCHAR(20),\n",
    "            PRIMARY KEY(stock_id),\t\n",
    "            UNIQUE(date,name),\n",
    "            FOREIGN KEY(name) REFERENCES 市場(name)\n",
    "            ON DELETE NO ACTION\n",
    "            ON UPDATE CASCADE\n",
    "        );'''\n",
    "        cursor.execute(sql)\n",
    "    \n",
    "conn.close()"
   ]
  }
 ],
 "metadata": {
  "kernelspec": {
   "display_name": "Python 3",
   "language": "python",
   "name": "python3"
  },
  "language_info": {
   "codemirror_mode": {
    "name": "ipython",
    "version": 3
   },
   "file_extension": ".py",
   "mimetype": "text/x-python",
   "name": "python",
   "nbconvert_exporter": "python",
   "pygments_lexer": "ipython3",
   "version": "3.13.0"
  }
 },
 "nbformat": 4,
 "nbformat_minor": 2
}
