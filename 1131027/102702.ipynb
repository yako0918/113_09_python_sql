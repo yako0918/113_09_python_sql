{
 "cells": [
  {
   "cell_type": "code",
   "execution_count": null,
   "metadata": {},
   "outputs": [],
   "source": [
    "tuple\n",
    "暫時的資料\n",
    "可儲存多的值\n",
    "不可以修改,新增,刪除元素\n",
    "序列,串列資類(for in操作)\n",
    "#建立tuple\n",
    "tu1 = (1, 3, 5, 7, 9)\n",
    "print(tu1[0])\n",
    "print(tu1[1])\n",
    "print(tu1[2])\n",
    "print(tu1[3])\n",
    "print(tu1[4])"
   ]
  },
  {
   "cell_type": "code",
   "execution_count": null,
   "metadata": {},
   "outputs": [],
   "source": [
    "for value in tu1:\n",
    "    print(value)"
   ]
  },
  {
   "cell_type": "code",
   "execution_count": null,
   "metadata": {},
   "outputs": [],
   "source": [
    "for letter in 'Hello! World!':\n",
    "    print(letter)"
   ]
  },
  {
   "cell_type": "code",
   "execution_count": null,
   "metadata": {},
   "outputs": [],
   "source": [
    "list\n",
    "可儲存多的值\n",
    "可以修改,新增,刪除元素\n",
    "序列,串列資類(for in操作)\n",
    "#建立list\n",
    "li1 = [2, 4, 6, 8, 10]\n",
    "li1[0]\n",
    "li1[1]\n",
    "li1[2]\n",
    "li1[3]\n",
    "li1[4]"
   ]
  },
  {
   "cell_type": "code",
   "execution_count": null,
   "metadata": {},
   "outputs": [],
   "source": [
    "type(li1)"
   ]
  },
  {
   "cell_type": "code",
   "execution_count": null,
   "metadata": {},
   "outputs": [],
   "source": [
    "li2 = list()\n",
    "li2.append('a')\n",
    "li2.append(300)\n",
    "li2.append('python')\n",
    "li2.append(56.0)\n",
    "li2"
   ]
  }
 ],
 "metadata": {
  "language_info": {
   "name": "python"
  }
 },
 "nbformat": 4,
 "nbformat_minor": 2
}
